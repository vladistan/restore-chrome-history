{
 "cells": [
  {
   "cell_type": "markdown",
   "id": "1a8d5ee5-bcf8-4417-8f7a-f83f49a6ffe8",
   "metadata": {},
   "source": [
    "# Chrome history restorer\n",
    "\n",
    "If you lost your tabs,  this is a bit of improvement vs. going through the history and fishing out the links\n",
    "\n",
    "Copy your history file to this directory"
   ]
  },
  {
   "cell_type": "code",
   "execution_count": 1,
   "id": "dbf1716a-f424-45bf-ad9c-9fb13e35a6b1",
   "metadata": {},
   "outputs": [],
   "source": [
    "import sqlite3\n",
    "import pandas as pd"
   ]
  },
  {
   "cell_type": "code",
   "execution_count": null,
   "id": "9eb97dc7-20b2-4652-8dff-2df570448029",
   "metadata": {},
   "outputs": [],
   "source": [
    "!ls"
   ]
  },
  {
   "cell_type": "code",
   "execution_count": null,
   "id": "fb20fadf-f906-489b-b2d0-f0c7e3f24268",
   "metadata": {},
   "outputs": [],
   "source": [
    "conn = sqlite3.connect('History')\n",
    "cursor = conn.cursor()\n",
    "\n",
    "# Query to select URLs from the history\n",
    "query = \"SELECT url, last_visit_time FROM urls\"\n",
    "    \n",
    "try:\n",
    "    cursor.execute(query)\n",
    "    data = cursor.fetchall()\n",
    "    df = pd.DataFrame(data, columns=['URL', 'Last'])\n",
    "    df['Last'] = pd.to_datetime((df['Last'] - 11644473600000000) / 1000000, unit='s', errors='coerce', utc=True)\n",
    "\n",
    "\n",
    "except sqlite3.Error as e:\n",
    "    print(f\"An error occurred: {e}\")\n",
    "    links = []\n",
    "finally:\n",
    "    conn.close()\n",
    "    "
   ]
  },
  {
   "cell_type": "code",
   "execution_count": null,
   "id": "0d4b930c-758f-4dba-b871-a58933016e19",
   "metadata": {},
   "outputs": [],
   "source": [
    "len(links)"
   ]
  },
  {
   "cell_type": "code",
   "execution_count": null,
   "id": "8c4025fc-c4bd-41eb-8f3c-5bbe10383ce3",
   "metadata": {},
   "outputs": [],
   "source": [
    "df.sort_values(by='Last', ascending=False)"
   ]
  },
  {
   "cell_type": "code",
   "execution_count": null,
   "id": "0e3a2265-4a5f-44b6-a4ab-d759d6f03cc6",
   "metadata": {},
   "outputs": [],
   "source": [
    "import math\n",
    "import os\n",
    "import pandas as pd\n",
    "from urllib.parse import urlparse, parse_qs\n",
    "\n",
    "def output_df_as_html_with_pagination(df, output_dir):\n",
    "    # Ensure the output directory exists\n",
    "    if not os.path.exists(output_dir):\n",
    "        os.makedirs(output_dir)\n",
    "    \n",
    "    # Bootstrap CSS for styling\n",
    "    bootstrap_css = '<link rel=\"stylesheet\" href=\"https://stackpath.bootstrapcdn.com/bootstrap/4.3.1/css/bootstrap.min.css\">'\n",
    "    \n",
    "    # Rename 'Last_Visit_Time' to 'Last'\n",
    "    df.rename(columns={'Last_Visit_Time': 'Last'}, inplace=True)\n",
    "    # Ensure 'Last' is datetime and handle NaT/NaN before converting to date\n",
    "    df['Last'] = pd.to_datetime(df['Last'], errors='coerce').dt.date\n",
    "    \n",
    "    # Filter out rows where 'Last' is NaT/NaN (now None after dt.date conversion)\n",
    "    df = df.dropna(subset=['Last'])\n",
    "    \n",
    "    # Adjust DataFrame order if needed\n",
    "    cols = ['Last'] + [col for col in df if col != 'Last']\n",
    "    df = df[cols]\n",
    "    \n",
    "    # Number of links per page\n",
    "    links_per_page = 100\n",
    "    num_pages = math.ceil(len(df) / links_per_page)\n",
    "    \n",
    "    # Function to format URL cell with ttl and uri if applicable\n",
    "    def format_url_cell(url):\n",
    "        parsed_url = urlparse(url)\n",
    "        if parsed_url.netloc == 'noogafoofpebimajpfpamcfhoaifemoa':\n",
    "            query_params = parse_qs(parsed_url.fragment)\n",
    "            ttl = query_params.get('ttl', [''])[0]\n",
    "            uri = query_params.get('uri', [''])[0][:15]\n",
    "            return f'<a href=\"{url}\" target=\"_blank\">{url}</a><br>{ttl}<br>{uri}'\n",
    "        else:\n",
    "            return f'<a href=\"{url}\" target=\"_blank\">{url}</a>'\n",
    "    \n",
    "    for page in range(num_pages):\n",
    "        # Calculate start and end indices for the current chunk\n",
    "        start_idx = page * links_per_page\n",
    "        end_idx = start_idx + links_per_page\n",
    "        df_chunk = df.iloc[start_idx:end_idx]\n",
    "        \n",
    "        # Safely compute start and end dates for display\n",
    "        start_date = df_chunk['Last'].min() if not df_chunk['Last'].isnull().all() else 'Unknown'\n",
    "        end_date = df_chunk['Last'].max() if not df_chunk['Last'].isnull().all() else 'Unknown'\n",
    "        \n",
    "        # HTML structure with Bootstrap CSS\n",
    "        html_start = f\"\"\"\n",
    "        <!DOCTYPE html>\n",
    "        <html lang=\"en\">\n",
    "        <head>\n",
    "            <meta charset=\"UTF-8\">\n",
    "            <meta name=\"viewport\" content=\"width=device-width, initial-scale=1.0\">\n",
    "            {bootstrap_css}\n",
    "            <title>Browser History - Page {page + 1}</title>\n",
    "        </head>\n",
    "        <body>\n",
    "        <div class=\"container\">\n",
    "            <h2>Browser History</h2>\n",
    "            <p>Displaying links from {start_date} to {end_date}</p>\n",
    "        \"\"\"\n",
    "        html_end = \"\"\"\n",
    "        </div>\n",
    "        </body>\n",
    "        </html>\n",
    "        \"\"\"\n",
    "        \n",
    "        # Convert DataFrame chunk to HTML\n",
    "        df_html = df_chunk.to_html(escape=False, formatters={\n",
    "            'URL': format_url_cell,\n",
    "            'Last': lambda x: x.strftime('%Y-%m-%d') if pd.notnull(x) else 'Unknown'\n",
    "        }, index=False, classes='table table-striped', columns=['Last', 'URL'])\n",
    "        \n",
    "        # Navigation links\n",
    "        nav_links = '<div class=\"navigation\">'\n",
    "        if page > 0:\n",
    "            nav_links += f'<a href=\"page_{page}.html\">Previous</a>'\n",
    "        if page < num_pages - 1:\n",
    "            nav_links += f' <a href=\"page_{page + 2}.html\">Next</a>'\n",
    "        nav_links += '</div>'\n",
    "        \n",
    "        # Combine everything into a full HTML document\n",
    "        full_html = f\"{html_start}{nav_links}{df_html}{nav_links}{html_end}\"\n",
    "        \n",
    "        # Write the HTML content to a file\n",
    "        output_file_path = os.path.join(output_dir, f'page_{page + 1}.html')\n",
    "        with open(output_file_path, 'w', encoding='utf-8') as file:\n",
    "            file.write(full_html)"
   ]
  },
  {
   "cell_type": "code",
   "execution_count": null,
   "id": "054b1315-dff0-4d57-bb29-64e305717b2e",
   "metadata": {},
   "outputs": [],
   "source": [
    "sdf = df.sort_values(by='Last', ascending=False)\n",
    "sdf = sdf[~sdf['URL'].str.startswith('https://observe')]\n",
    "sdf = sdf[~sdf['URL'].str.startswith('https://admin.google')]\n",
    "sdf = sdf[~sdf['URL'].str.startswith('https://mail.google.com')]\n",
    "\n",
    "output_df_as_html_with_pagination(sdf, 'browser_history')"
   ]
  },
  {
   "cell_type": "code",
   "execution_count": null,
   "id": "a3b9db53-3c42-442d-9a80-c50950ef69b7",
   "metadata": {},
   "outputs": [],
   "source": [
    "sdf.describe()"
   ]
  },
  {
   "cell_type": "code",
   "execution_count": null,
   "id": "90d3f469-051b-446d-9e40-6058d591a7b6",
   "metadata": {},
   "outputs": [],
   "source": [
    "# Assuming 'df' is your original DataFrame and it contains a column named 'URL'\n",
    "# Extract the first 15 characters of each URL to create a new DataFrame\n",
    "prefix_df = sdf['URL'].str[:15].to_frame(name='URL_Prefix')\n",
    "\n",
    "# Count occurrences of each prefix and get the top 100 most common\n",
    "common_prefixes = prefix_df['URL_Prefix'].value_counts().head(100).to_frame(name='Count')\n",
    "\n",
    "# Display the new DataFrame with common prefixes and their counts\n",
    "print(common_prefixes)"
   ]
  },
  {
   "cell_type": "code",
   "execution_count": null,
   "id": "01231000-bbc8-4d4a-9ef1-2967b89b18c3",
   "metadata": {},
   "outputs": [],
   "source": []
  },
  {
   "cell_type": "code",
   "execution_count": null,
   "id": "de0af664-864d-4150-9010-159487b2a06b",
   "metadata": {},
   "outputs": [],
   "source": []
  }
 ],
 "metadata": {
  "kernelspec": {
   "display_name": "Python 3 (ipykernel)",
   "language": "python",
   "name": "python3"
  },
  "language_info": {
   "codemirror_mode": {
    "name": "ipython",
    "version": 3
   },
   "file_extension": ".py",
   "mimetype": "text/x-python",
   "name": "python",
   "nbconvert_exporter": "python",
   "pygments_lexer": "ipython3",
   "version": "3.11.2"
  }
 },
 "nbformat": 4,
 "nbformat_minor": 5
}
